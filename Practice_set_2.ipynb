{
 "cells": [
  {
   "cell_type": "code",
   "execution_count": 1,
   "id": "990e71aa-8b54-4039-b219-5c27f1fc6a51",
   "metadata": {},
   "outputs": [
    {
     "name": "stdout",
     "output_type": "stream",
     "text": [
      "120\n"
     ]
    }
   ],
   "source": [
    "def factorial(n):\n",
    "    if n == 0:\n",
    "        return 1\n",
    "    else:\n",
    "        return n * factorial(n-1)\n",
    "\n",
    "print(factorial(5))  # Output: 120\n"
   ]
  },
  {
   "cell_type": "code",
   "execution_count": 5,
   "id": "8bcf8a85-54ca-4a32-8ab9-f692938e28db",
   "metadata": {},
   "outputs": [
    {
     "name": "stdout",
     "output_type": "stream",
     "text": [
      "1\n",
      "3\n"
     ]
    }
   ],
   "source": [
    "my_list = [1, 4, 3, 4]\n",
    "for idx, val in enumerate(my_list):\n",
    "    if val==4:\n",
    "        print(idx)"
   ]
  },
  {
   "cell_type": "code",
   "execution_count": 6,
   "id": "24f45407-2305-4583-bd96-3fd89036967c",
   "metadata": {},
   "outputs": [
    {
     "name": "stdout",
     "output_type": "stream",
     "text": [
      "pair\n"
     ]
    }
   ],
   "source": [
    "# Tuple को dictionary में key के रूप में इस्तेमाल करना\n",
    "my_dict = {(1,2): \"pair\"}\n",
    "print(my_dict[(1,2)])  # Access value by tuple key -> pair"
   ]
  },
  {
   "cell_type": "code",
   "execution_count": 24,
   "id": "c54fa565-5d90-4c92-9e87-ace038606a5d",
   "metadata": {},
   "outputs": [
    {
     "data": {
      "text/plain": [
       "({0: 0, 1: 1, 2: 4, 3: 9, 4: 16}, [0, 1, 4, 9, 16])"
      ]
     },
     "execution_count": 24,
     "metadata": {},
     "output_type": "execute_result"
    }
   ],
   "source": [
    "dictsq = {x: x**2 for x in range(5)}\n",
    "listsq=[x**2 for x in range(5)] \n",
    "dictsq,listsq"
   ]
  },
  {
   "cell_type": "code",
   "execution_count": 19,
   "id": "7d7f8dfe-557a-468d-a11a-aac7476f310b",
   "metadata": {},
   "outputs": [
    {
     "data": {
      "text/plain": [
       "([0, 1, 2, 3, 4], [0, 1, 4, 9, 16])"
      ]
     },
     "execution_count": 19,
     "metadata": {},
     "output_type": "execute_result"
    }
   ],
   "source": [
    "x1=[]\n",
    "x2=[]\n",
    "for x,a in dictsq.items():\n",
    "    x1.append(x)\n",
    "    x2.append(a)\n",
    "x1,x2"
   ]
  },
  {
   "cell_type": "code",
   "execution_count": 33,
   "id": "7d893e1f-8877-481b-afc7-7eece49ab2f1",
   "metadata": {},
   "outputs": [
    {
     "name": "stdout",
     "output_type": "stream",
     "text": [
      "[2, 4, 6]\n"
     ]
    }
   ],
   "source": [
    "l1=[1,2,3,4,5,6]\n",
    "l2=[]\n",
    "def inp(x):\n",
    "    for i in x:\n",
    "        if i % 2 == 0:\n",
    "            l2.append(i)\n",
    "    return l2\n",
    "print(inp(l1))\n",
    "\n",
    "        \n",
    "        "
   ]
  },
  {
   "cell_type": "code",
   "execution_count": 34,
   "id": "59fd504f-0215-4b81-96f1-62417c5646ee",
   "metadata": {},
   "outputs": [
    {
     "name": "stdout",
     "output_type": "stream",
     "text": [
      "Charlie : 35\n"
     ]
    }
   ],
   "source": [
    "d1={\"Alice\":25, \"Bob\":30, \"Charlie\":35}\n",
    "for x,i in d1.items():\n",
    "    if 30<i:\n",
    "        print(x,\":\",i)"
   ]
  },
  {
   "cell_type": "code",
   "execution_count": 38,
   "id": "f3b0b579-1c87-4d7d-b555-fc8ec7b3647d",
   "metadata": {},
   "outputs": [
    {
     "data": {
      "text/plain": [
       "[0, 1, 2, 3, 4, 5, 6, 7, 8, 9, 10, 11, 12, 13, 14, 15, 16, 17, 18, 19, 20]"
      ]
     },
     "execution_count": 38,
     "metadata": {},
     "output_type": "execute_result"
    }
   ],
   "source": [
    "l1=[]\n",
    "l1=[i for i in range(21)]\n",
    "print(l1)"
   ]
  },
  {
   "cell_type": "code",
   "execution_count": 39,
   "id": "c99c1142-c5ca-44b2-ba48-4b86ff7f1cb3",
   "metadata": {},
   "outputs": [
    {
     "data": {
      "text/plain": [
       "(40, 10)"
      ]
     },
     "execution_count": 39,
     "metadata": {},
     "output_type": "execute_result"
    }
   ],
   "source": [
    "t=(10,20,30,40)\n",
    "a,b,c,d=t\n",
    "a,d=d,a\n",
    "print(a,d)"
   ]
  },
  {
   "cell_type": "code",
   "execution_count": null,
   "id": "2ca94d87-0b08-43c9-9813-6090718a7079",
   "metadata": {},
   "outputs": [],
   "source": [
    "select * from emp where Age > 30 AND Department='IT';\n",
    "select avg(salary) as avgsalary  from emp;\n"
   ]
  },
  {
   "cell_type": "code",
   "execution_count": 40,
   "id": "cd28c683-09f3-4787-a7b9-e08e4e980a0a",
   "metadata": {},
   "outputs": [
    {
     "name": "stdout",
     "output_type": "stream",
     "text": [
      "      Name  Age  Salary Department\n",
      "2  Charlie   35   70000    Finance\n",
      "3    David   40   80000         IT\n",
      "Average Salary: 65000.0\n",
      "      Name  Age  Salary Department   Bonus\n",
      "0    Alice   25   50000         HR  5000.0\n",
      "1      Bob   30   60000         IT  6000.0\n",
      "2  Charlie   35   70000    Finance  7000.0\n",
      "3    David   40   80000         IT  8000.0\n"
     ]
    }
   ],
   "source": [
    "import pandas as pd\n",
    "\n",
    "# DataFrame बनाना\n",
    "data = {\n",
    "    \"Name\": [\"Alice\", \"Bob\", \"Charlie\", \"David\"],\n",
    "    \"Age\": [25, 30, 35, 40],\n",
    "    \"Salary\": [50000, 60000, 70000, 80000],\n",
    "    \"Department\": [\"HR\", \"IT\", \"Finance\", \"IT\"]\n",
    "}\n",
    "\n",
    "df = pd.DataFrame(data)\n",
    "\n",
    "# Age > 30 वाले employees\n",
    "print(df[df[\"Age\"] > 30])\n",
    "\n",
    "# Average Salary\n",
    "print(\"Average Salary:\", df[\"Salary\"].mean())\n",
    "\n",
    "# 10% Bonus column add करना\n",
    "df[\"Bonus\"] = df[\"Salary\"] * 0.10\n",
    "print(df)\n"
   ]
  },
  {
   "cell_type": "code",
   "execution_count": null,
   "id": "918cf26e-6a65-4e00-9183-06030ca1d63a",
   "metadata": {},
   "outputs": [],
   "source": [
    "#emp टेबल से उन employees का नाम और salary दिखाओ जिनकी salary 40,000 और 70,000 के बीच है।\n",
    "select ename , salary from emp where salary>40000 and salary<70000;\n",
    "\n",
    "#उन employees के नाम और department दिखाओ जिनके department का नाम 'I' से शुरू होता है।\n",
    "select department,ename from emp  where like 'I%' grop by department;\n",
    "\n",
    "#उन employees की पूरी details दिखाओ जिनकी age 25, 30 या 35 है।\n",
    "select *  from emp where IN(25,30,35);\n",
    "\n",
    "#पूरे emp टेबल से average age निकालो।\n",
    "select avg(age) as avg_age from emp;\n",
    "\n",
    "#हर department में employees की total salary expenditure (SUM) निकालो।\n",
    "select deparment \n",
    "from emp \n",
    "goup by deparment\n",
    "having sum(salary) as sum_salary\n",
    "\n",
    "#पता करो कि company में कितने employees की salary average salary से ज्यादा है।\n",
    "select * from emp where avg(salary)<salary ;\n",
    "\n",
    "#Department-wise employee count दिखाओ लेकिन सिर्फ वही departments दिखाओ जिनमें कम से कम 3 employees हों।\n"
   ]
  },
  {
   "cell_type": "code",
   "execution_count": 8,
   "id": "1aad043a-77b7-4fb3-8082-b030f1f882ad",
   "metadata": {},
   "outputs": [
    {
     "name": "stdout",
     "output_type": "stream",
     "text": [
      "[12, 12, 12, 13, 13, 21, 21, 23, 32, 32, 33, 34, 34, 43, 44, 45, 52, 75, 76, 89]\n",
      "[12, 13, 21, 23, 32, 33, 34, 43, 44, 45, 52, 75, 76, 89]\n",
      "[12, 12, 13, 21, 32, 34]\n"
     ]
    }
   ],
   "source": [
    "#Merge two sorted lists without inbuilt sort\n",
    "l1=[12,32,13,34,21,44,33,12,21,32]\n",
    "l2=[45,89,34,12,75,23,43,52,13,76]\n",
    "l3=l1+l2\n",
    "l4=[]\n",
    "l5=[]\n",
    "for i in range(len(l3)):\n",
    "    for j in range(len(l3)-1):\n",
    "        if l3[j]>l3[j+1]:\n",
    "            l3[j],l3[j+1]=l3[j+1],l3[j]\n",
    "for i in range(len(l3)):\n",
    "    if l3[i] not in l4:\n",
    "        l4.append(l3[i])\n",
    "    else:\n",
    "        l5.append(l3[i])\n",
    "print(l3)\n",
    "print(l4)\n",
    "print(l5)\n",
    "    "
   ]
  },
  {
   "cell_type": "code",
   "execution_count": 5,
   "id": "0fc7c609-da24-41d2-8a90-dc5dc0a9bb3e",
   "metadata": {},
   "outputs": [],
   "source": [
    "d=dict(zip(l1,l2))"
   ]
  },
  {
   "cell_type": "code",
   "execution_count": 9,
   "id": "6c26f513-2d8c-469a-859d-48b48d3a5495",
   "metadata": {},
   "outputs": [
    {
     "name": "stdout",
     "output_type": "stream",
     "text": [
      "{12: 52, 32: 76, 13: 34, 34: 12, 21: 13, 44: 23, 33: 43}\n"
     ]
    }
   ],
   "source": [
    "print(d)"
   ]
  },
  {
   "cell_type": "code",
   "execution_count": 16,
   "id": "62e9f1a9-fb28-4687-89ed-83d75560d02e",
   "metadata": {},
   "outputs": [
    {
     "name": "stdout",
     "output_type": "stream",
     "text": [
      "{'apple': 100, 10: 30, 'banana': 50, 30: 150, 40: 130}\n"
     ]
    }
   ],
   "source": [
    "keys = [\"apple\",10, \"banana\",30,40, \"mango\"]\n",
    "values = [100, 30,50, 150,130]\n",
    "\n",
    "# Create dictionary from lists\n",
    "fruit_prices = dict(zip(keys, values))\n",
    "\n",
    "print(fruit_prices)\n"
   ]
  }
 ],
 "metadata": {
  "kernelspec": {
   "display_name": "Python 3 (ipykernel)",
   "language": "python",
   "name": "python3"
  },
  "language_info": {
   "codemirror_mode": {
    "name": "ipython",
    "version": 3
   },
   "file_extension": ".py",
   "mimetype": "text/x-python",
   "name": "python",
   "nbconvert_exporter": "python",
   "pygments_lexer": "ipython3",
   "version": "3.13.5"
  }
 },
 "nbformat": 4,
 "nbformat_minor": 5
}
